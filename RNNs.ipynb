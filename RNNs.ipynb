{
 "cells": [
  {
   "cell_type": "code",
   "execution_count": 1,
   "id": "359d254d-a6d4-4afb-b06a-24643beb7429",
   "metadata": {},
   "outputs": [],
   "source": [
    "import tensorflow as tf\n",
    "import numpy as np\n",
    "from tensorflow.keras.models import Sequential\n",
    "from tensorflow.keras.layers import SimpleRNN, Dense"
   ]
  },
  {
   "cell_type": "code",
   "execution_count": 5,
   "id": "07163ee3-3b38-4cf1-86e4-e6077446462e",
   "metadata": {},
   "outputs": [],
   "source": [
    "#Generating sequences of random integers\n",
    "def generate_sequences(num_sequences, max_length, vocab_size):\n",
    "    sequences = []\n",
    "    labels=[]\n",
    "    for _ in range(num_sequences):\n",
    "        length = np.random.randint(1, max_length + 1)\n",
    "        seq = np.random.randint(0, vocab_size, length)\n",
    "        label = np.sum(seq) % 2\n",
    "        sequences.append(seq)\n",
    "        labels.append(label)\n",
    "    return sequences, labels\n",
    "\n",
    "#Parameters\n",
    "num_sequences = 1000\n",
    "max_length = 10\n",
    "vocab_size = 10\n",
    "\n",
    "#Generating Data \n",
    "sequences, labels = generate_sequences(num_sequences, max_length, vocab_size)"
   ]
  },
  {
   "cell_type": "code",
   "execution_count": 7,
   "id": "fe778d9d-b796-4b6f-9230-e2a0e155f2f1",
   "metadata": {},
   "outputs": [],
   "source": [
    "from tensorflow.keras.preprocessing.sequence import pad_sequences\n",
    "\n",
    "#Pad sequences to the same length\n",
    "padded_sequences = pad_sequences(sequences, maxlen=max_length, padding='post')\n",
    "\n",
    "#Convert labels to numpy array\n",
    "labels = np.array(labels)"
   ]
  },
  {
   "cell_type": "code",
   "execution_count": 11,
   "id": "07d0505b-57fd-4d18-9a1a-1184fcdae301",
   "metadata": {},
   "outputs": [],
   "source": [
    "# Define the model\n",
    "model = Sequential()\n",
    "model.add(SimpleRNN(32, input_shape=(max_length, 1)))\n",
    "model.add(Dense(1, activation='sigmoid'))\n",
    "\n",
    "# Compile the model\n",
    "model.compile(optimizer='adam', loss='binary_crossentropy', metrics=['accuracy'])"
   ]
  },
  {
   "cell_type": "code",
   "execution_count": 13,
   "id": "15a4b102-744b-4cf2-9018-79f48449cea8",
   "metadata": {},
   "outputs": [
    {
     "name": "stdout",
     "output_type": "stream",
     "text": [
      "Epoch 1/10\n",
      "\u001b[1m25/25\u001b[0m \u001b[32m━━━━━━━━━━━━━━━━━━━━\u001b[0m\u001b[37m\u001b[0m \u001b[1m2s\u001b[0m 16ms/step - accuracy: 0.5068 - loss: 0.7382 - val_accuracy: 0.5200 - val_loss: 0.7091\n",
      "Epoch 2/10\n",
      "\u001b[1m25/25\u001b[0m \u001b[32m━━━━━━━━━━━━━━━━━━━━\u001b[0m\u001b[37m\u001b[0m \u001b[1m0s\u001b[0m 4ms/step - accuracy: 0.5254 - loss: 0.7102 - val_accuracy: 0.5100 - val_loss: 0.7073\n",
      "Epoch 3/10\n",
      "\u001b[1m25/25\u001b[0m \u001b[32m━━━━━━━━━━━━━━━━━━━━\u001b[0m\u001b[37m\u001b[0m \u001b[1m0s\u001b[0m 5ms/step - accuracy: 0.5909 - loss: 0.6963 - val_accuracy: 0.4850 - val_loss: 0.7088\n",
      "Epoch 4/10\n",
      "\u001b[1m25/25\u001b[0m \u001b[32m━━━━━━━━━━━━━━━━━━━━\u001b[0m\u001b[37m\u001b[0m \u001b[1m0s\u001b[0m 5ms/step - accuracy: 0.5593 - loss: 0.6890 - val_accuracy: 0.4800 - val_loss: 0.7111\n",
      "Epoch 5/10\n",
      "\u001b[1m25/25\u001b[0m \u001b[32m━━━━━━━━━━━━━━━━━━━━\u001b[0m\u001b[37m\u001b[0m \u001b[1m0s\u001b[0m 5ms/step - accuracy: 0.5904 - loss: 0.6783 - val_accuracy: 0.5050 - val_loss: 0.7052\n",
      "Epoch 6/10\n",
      "\u001b[1m25/25\u001b[0m \u001b[32m━━━━━━━━━━━━━━━━━━━━\u001b[0m\u001b[37m\u001b[0m \u001b[1m0s\u001b[0m 5ms/step - accuracy: 0.5566 - loss: 0.6892 - val_accuracy: 0.4800 - val_loss: 0.7095\n",
      "Epoch 7/10\n",
      "\u001b[1m25/25\u001b[0m \u001b[32m━━━━━━━━━━━━━━━━━━━━\u001b[0m\u001b[37m\u001b[0m \u001b[1m0s\u001b[0m 6ms/step - accuracy: 0.5920 - loss: 0.6791 - val_accuracy: 0.4900 - val_loss: 0.7116\n",
      "Epoch 8/10\n",
      "\u001b[1m25/25\u001b[0m \u001b[32m━━━━━━━━━━━━━━━━━━━━\u001b[0m\u001b[37m\u001b[0m \u001b[1m0s\u001b[0m 4ms/step - accuracy: 0.5791 - loss: 0.6747 - val_accuracy: 0.5250 - val_loss: 0.7070\n",
      "Epoch 9/10\n",
      "\u001b[1m25/25\u001b[0m \u001b[32m━━━━━━━━━━━━━━━━━━━━\u001b[0m\u001b[37m\u001b[0m \u001b[1m0s\u001b[0m 5ms/step - accuracy: 0.5982 - loss: 0.6708 - val_accuracy: 0.5100 - val_loss: 0.7101\n",
      "Epoch 10/10\n",
      "\u001b[1m25/25\u001b[0m \u001b[32m━━━━━━━━━━━━━━━━━━━━\u001b[0m\u001b[37m\u001b[0m \u001b[1m0s\u001b[0m 8ms/step - accuracy: 0.5933 - loss: 0.6743 - val_accuracy: 0.5150 - val_loss: 0.7086\n"
     ]
    },
    {
     "data": {
      "text/plain": [
       "<keras.src.callbacks.history.History at 0x1e861ab5760>"
      ]
     },
     "execution_count": 13,
     "metadata": {},
     "output_type": "execute_result"
    }
   ],
   "source": [
    "#Training the model\n",
    "x = padded_sequences.reshape((num_sequences, max_length, 1))\n",
    "y = labels\n",
    "\n",
    "#Train the model\n",
    "model.fit(x,y, epochs=10, batch_size=32, validation_split=0.2)"
   ]
  },
  {
   "cell_type": "code",
   "execution_count": 15,
   "id": "3b2522d7-698f-492c-a6e6-7bfac95983c2",
   "metadata": {},
   "outputs": [
    {
     "name": "stdout",
     "output_type": "stream",
     "text": [
      "\u001b[1m32/32\u001b[0m \u001b[32m━━━━━━━━━━━━━━━━━━━━\u001b[0m\u001b[37m\u001b[0m \u001b[1m0s\u001b[0m 3ms/step - accuracy: 0.6123 - loss: 0.6678\n",
      "Accuracy : 57.50%\n"
     ]
    }
   ],
   "source": [
    "#Evaluating the model on training data\n",
    "loss, accuracy = model.evaluate(x,y)\n",
    "print(f\"Accuracy : {accuracy * 100:.2f}%\")"
   ]
  },
  {
   "cell_type": "code",
   "execution_count": 17,
   "id": "e77c4907-8f4e-40f4-a6c0-d6fb1e0a89b2",
   "metadata": {},
   "outputs": [
    {
     "name": "stdout",
     "output_type": "stream",
     "text": [
      "\u001b[1m1/1\u001b[0m \u001b[32m━━━━━━━━━━━━━━━━━━━━\u001b[0m\u001b[37m\u001b[0m \u001b[1m0s\u001b[0m 279ms/step\n",
      "Predicted Label: Even\n"
     ]
    }
   ],
   "source": [
    "# Predict on new data\n",
    "test_seq = np.array([[1, 3, 5]])\n",
    "test_seq_padded = pad_sequences(test_seq, maxlen=max_length, padding='post')\n",
    "test_seq_reshaped = test_seq_padded.reshape((1, max_length, 1))\n",
    "\n",
    "prediction = model.predict(test_seq_reshaped)\n",
    "predicted_label = int(prediction.round()[0][0])\n",
    "print(f\"Predicted Label: {'Even' if predicted_label == 0 else 'Odd'}\")"
   ]
  }
 ],
 "metadata": {
  "kernelspec": {
   "display_name": "Python [conda env:base] *",
   "language": "python",
   "name": "conda-base-py"
  },
  "language_info": {
   "codemirror_mode": {
    "name": "ipython",
    "version": 3
   },
   "file_extension": ".py",
   "mimetype": "text/x-python",
   "name": "python",
   "nbconvert_exporter": "python",
   "pygments_lexer": "ipython3",
   "version": "3.12.7"
  }
 },
 "nbformat": 4,
 "nbformat_minor": 5
}
